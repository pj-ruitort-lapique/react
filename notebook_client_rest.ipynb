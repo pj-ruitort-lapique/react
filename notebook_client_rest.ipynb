{
 "cells": [
  {
   "cell_type": "code",
   "execution_count": null,
   "metadata": {},
   "outputs": [],
   "source": [
    "#import packages\n",
    "import pandas as pd\n",
    "import numpy as np\n",
    "import requests\n",
    "from datetime import datetime, date\n",
    "import matplotlib.pyplot as plt\n",
    "import matplotlib.ticker as ticker\n",
    "import matplotlib.dates as mdates"
   ]
  },
  {
   "cell_type": "code",
   "execution_count": 76,
   "metadata": {
    "collapsed": true,
    "jupyter": {
     "outputs_hidden": true
    }
   },
   "outputs": [
    {
     "data": {
      "text/html": [
       "<div>\n",
       "<style scoped>\n",
       "    .dataframe tbody tr th:only-of-type {\n",
       "        vertical-align: middle;\n",
       "    }\n",
       "\n",
       "    .dataframe tbody tr th {\n",
       "        vertical-align: top;\n",
       "    }\n",
       "\n",
       "    .dataframe thead th {\n",
       "        text-align: right;\n",
       "    }\n",
       "</style>\n",
       "<table border=\"1\" class=\"dataframe\">\n",
       "  <thead>\n",
       "    <tr style=\"text-align: right;\">\n",
       "      <th></th>\n",
       "      <th>title</th>\n",
       "      <th>year</th>\n",
       "      <th>duration</th>\n",
       "    </tr>\n",
       "    <tr>\n",
       "      <th>id</th>\n",
       "      <th></th>\n",
       "      <th></th>\n",
       "      <th></th>\n",
       "    </tr>\n",
       "  </thead>\n",
       "  <tbody>\n",
       "    <tr>\n",
       "      <th>5257</th>\n",
       "      <td>Excuse Me</td>\n",
       "      <td>1915</td>\n",
       "      <td>50.0</td>\n",
       "    </tr>\n",
       "    <tr>\n",
       "      <th>6366</th>\n",
       "      <td>Anton the Terrible</td>\n",
       "      <td>1916</td>\n",
       "      <td>50.0</td>\n",
       "    </tr>\n",
       "    <tr>\n",
       "      <th>8351</th>\n",
       "      <td>The Mysterious Mrs. Musslewhite</td>\n",
       "      <td>1917</td>\n",
       "      <td>50.0</td>\n",
       "    </tr>\n",
       "    <tr>\n",
       "      <th>8384</th>\n",
       "      <td>On the Level</td>\n",
       "      <td>1917</td>\n",
       "      <td>50.0</td>\n",
       "    </tr>\n",
       "    <tr>\n",
       "      <th>8642</th>\n",
       "      <td>The Sunset Trail</td>\n",
       "      <td>1917</td>\n",
       "      <td>50.0</td>\n",
       "    </tr>\n",
       "    <tr>\n",
       "      <th>...</th>\n",
       "      <td>...</td>\n",
       "      <td>...</td>\n",
       "      <td>...</td>\n",
       "    </tr>\n",
       "    <tr>\n",
       "      <th>11885402</th>\n",
       "      <td>Dan Aykroyd and Tom Hanks: City of Crime</td>\n",
       "      <td>1987</td>\n",
       "      <td>NaN</td>\n",
       "    </tr>\n",
       "    <tr>\n",
       "      <th>11911992</th>\n",
       "      <td>Bleu de Chanel: The Film</td>\n",
       "      <td>2018</td>\n",
       "      <td>1.0</td>\n",
       "    </tr>\n",
       "    <tr>\n",
       "      <th>12771922</th>\n",
       "      <td>Neil Cicierega: Vivid Memories Turn to Fantasi...</td>\n",
       "      <td>2014</td>\n",
       "      <td>3.0</td>\n",
       "    </tr>\n",
       "    <tr>\n",
       "      <th>12771923</th>\n",
       "      <td>Mulan</td>\n",
       "      <td>1998</td>\n",
       "      <td>NaN</td>\n",
       "    </tr>\n",
       "    <tr>\n",
       "      <th>12771924</th>\n",
       "      <td>No Time To Die</td>\n",
       "      <td>2021</td>\n",
       "      <td>NaN</td>\n",
       "    </tr>\n",
       "  </tbody>\n",
       "</table>\n",
       "<p>1443 rows × 3 columns</p>\n",
       "</div>"
      ],
      "text/plain": [
       "                                                      title  year  duration\n",
       "id                                                                         \n",
       "5257                                              Excuse Me  1915      50.0\n",
       "6366                                     Anton the Terrible  1916      50.0\n",
       "8351                        The Mysterious Mrs. Musslewhite  1917      50.0\n",
       "8384                                           On the Level  1917      50.0\n",
       "8642                                       The Sunset Trail  1917      50.0\n",
       "...                                                     ...   ...       ...\n",
       "11885402           Dan Aykroyd and Tom Hanks: City of Crime  1987       NaN\n",
       "11911992                           Bleu de Chanel: The Film  2018       1.0\n",
       "12771922  Neil Cicierega: Vivid Memories Turn to Fantasi...  2014       3.0\n",
       "12771923                                              Mulan  1998       NaN\n",
       "12771924                                     No Time To Die  2021       NaN\n",
       "\n",
       "[1443 rows x 3 columns]"
      ]
     },
     "execution_count": 76,
     "metadata": {},
     "output_type": "execute_result"
    }
   ],
   "source": [
    "#get movies\n",
    "df_movies = pd.read_json('movies.json', convert_dates=['birthdate'])\n",
    "df_movies.set_index(\"id\", inplace=True)\n",
    "df_movies"
   ]
  },
  {
   "cell_type": "code",
   "execution_count": null,
   "metadata": {},
   "outputs": [],
   "source": [
    "#get stars\n",
    "df_stars = pd.read_json('stars.json', convert_dates=['birthdate'])\n",
    "df_stars.set_index(\"id\", inplace=True)\n",
    "df_stars"
   ]
  },
  {
   "cell_type": "markdown",
   "metadata": {},
   "source": [
    "# Stars by birthyear"
   ]
  },
  {
   "cell_type": "code",
   "execution_count": 8,
   "metadata": {
    "collapsed": true,
    "jupyter": {
     "outputs_hidden": true
    }
   },
   "outputs": [
    {
     "data": {
      "text/html": [
       "<div>\n",
       "<style scoped>\n",
       "    .dataframe tbody tr th:only-of-type {\n",
       "        vertical-align: middle;\n",
       "    }\n",
       "\n",
       "    .dataframe tbody tr th {\n",
       "        vertical-align: top;\n",
       "    }\n",
       "\n",
       "    .dataframe thead th {\n",
       "        text-align: right;\n",
       "    }\n",
       "</style>\n",
       "<table border=\"1\" class=\"dataframe\">\n",
       "  <thead>\n",
       "    <tr style=\"text-align: right;\">\n",
       "      <th></th>\n",
       "      <th>birthdate</th>\n",
       "      <th>id</th>\n",
       "    </tr>\n",
       "    <tr>\n",
       "      <th>name</th>\n",
       "      <th></th>\n",
       "      <th></th>\n",
       "    </tr>\n",
       "  </thead>\n",
       "  <tbody>\n",
       "    <tr>\n",
       "      <th>Abel Fernandez</th>\n",
       "      <td>1930-01-01</td>\n",
       "      <td>273359</td>\n",
       "    </tr>\n",
       "    <tr>\n",
       "      <th>Alejandro Rey</th>\n",
       "      <td>1930-01-01</td>\n",
       "      <td>721031</td>\n",
       "    </tr>\n",
       "    <tr>\n",
       "      <th>Alfie Curtis</th>\n",
       "      <td>1930-01-01</td>\n",
       "      <td>193238</td>\n",
       "    </tr>\n",
       "    <tr>\n",
       "      <th>Alvin Greenman</th>\n",
       "      <td>1930-01-01</td>\n",
       "      <td>339141</td>\n",
       "    </tr>\n",
       "    <tr>\n",
       "      <th>Angela Paton</th>\n",
       "      <td>1930-01-01</td>\n",
       "      <td>665708</td>\n",
       "    </tr>\n",
       "    <tr>\n",
       "      <th>...</th>\n",
       "      <td>...</td>\n",
       "      <td>...</td>\n",
       "    </tr>\n",
       "    <tr>\n",
       "      <th>Warren Vanders</th>\n",
       "      <td>1930-01-01</td>\n",
       "      <td>888845</td>\n",
       "    </tr>\n",
       "    <tr>\n",
       "      <th>Will Hutchins</th>\n",
       "      <td>1930-01-01</td>\n",
       "      <td>404298</td>\n",
       "    </tr>\n",
       "    <tr>\n",
       "      <th>William Joyce</th>\n",
       "      <td>1930-01-01</td>\n",
       "      <td>431499</td>\n",
       "    </tr>\n",
       "    <tr>\n",
       "      <th>William Traylor</th>\n",
       "      <td>1930-01-01</td>\n",
       "      <td>871501</td>\n",
       "    </tr>\n",
       "    <tr>\n",
       "      <th>Zvonko Jovcic</th>\n",
       "      <td>1930-01-01</td>\n",
       "      <td>1189799</td>\n",
       "    </tr>\n",
       "  </tbody>\n",
       "</table>\n",
       "<p>167 rows × 2 columns</p>\n",
       "</div>"
      ],
      "text/plain": [
       "                 birthdate       id\n",
       "name                               \n",
       "Abel Fernandez  1930-01-01   273359\n",
       "Alejandro Rey   1930-01-01   721031\n",
       "Alfie Curtis    1930-01-01   193238\n",
       "Alvin Greenman  1930-01-01   339141\n",
       "Angela Paton    1930-01-01   665708\n",
       "...                    ...      ...\n",
       "Warren Vanders  1930-01-01   888845\n",
       "Will Hutchins   1930-01-01   404298\n",
       "William Joyce   1930-01-01   431499\n",
       "William Traylor 1930-01-01   871501\n",
       "Zvonko Jovcic   1930-01-01  1189799\n",
       "\n",
       "[167 rows x 2 columns]"
      ]
     },
     "execution_count": 8,
     "metadata": {},
     "output_type": "execute_result"
    }
   ],
   "source": [
    "df_stars_by_birthyear = pd.read_json('stars_born_1930.json', convert_dates=['birthdate']).set_index('name')\n",
    "df_stars_by_birthyear"
   ]
  },
  {
   "cell_type": "markdown",
   "metadata": {},
   "source": [
    "# Movies by title part"
   ]
  },
  {
   "cell_type": "code",
   "execution_count": 13,
   "metadata": {
    "collapsed": true,
    "jupyter": {
     "outputs_hidden": true
    }
   },
   "outputs": [
    {
     "data": {
      "text/html": [
       "<div>\n",
       "<style scoped>\n",
       "    .dataframe tbody tr th:only-of-type {\n",
       "        vertical-align: middle;\n",
       "    }\n",
       "\n",
       "    .dataframe tbody tr th {\n",
       "        vertical-align: top;\n",
       "    }\n",
       "\n",
       "    .dataframe thead th {\n",
       "        text-align: right;\n",
       "    }\n",
       "</style>\n",
       "<table border=\"1\" class=\"dataframe\">\n",
       "  <thead>\n",
       "    <tr style=\"text-align: right;\">\n",
       "      <th></th>\n",
       "      <th>year</th>\n",
       "      <th>duration</th>\n",
       "      <th>id</th>\n",
       "    </tr>\n",
       "    <tr>\n",
       "      <th>title</th>\n",
       "      <th></th>\n",
       "      <th></th>\n",
       "      <th></th>\n",
       "    </tr>\n",
       "  </thead>\n",
       "  <tbody>\n",
       "    <tr>\n",
       "      <th>Fast &amp; Furious</th>\n",
       "      <td>2009</td>\n",
       "      <td>107</td>\n",
       "      <td>1013752</td>\n",
       "    </tr>\n",
       "    <tr>\n",
       "      <th>Fast &amp; Furious 6</th>\n",
       "      <td>2013</td>\n",
       "      <td>130</td>\n",
       "      <td>1905041</td>\n",
       "    </tr>\n",
       "    <tr>\n",
       "      <th>Fast &amp; Furious: Supercharged</th>\n",
       "      <td>2015</td>\n",
       "      <td>11</td>\n",
       "      <td>3757982</td>\n",
       "    </tr>\n",
       "    <tr>\n",
       "      <th>Fast Five</th>\n",
       "      <td>2011</td>\n",
       "      <td>130</td>\n",
       "      <td>1596343</td>\n",
       "    </tr>\n",
       "    <tr>\n",
       "      <th>The Fast and the Furious</th>\n",
       "      <td>2001</td>\n",
       "      <td>106</td>\n",
       "      <td>232500</td>\n",
       "    </tr>\n",
       "    <tr>\n",
       "      <th>The Fast and the Furious: Tokyo Drift</th>\n",
       "      <td>2006</td>\n",
       "      <td>104</td>\n",
       "      <td>463985</td>\n",
       "    </tr>\n",
       "  </tbody>\n",
       "</table>\n",
       "</div>"
      ],
      "text/plain": [
       "                                       year  duration       id\n",
       "title                                                         \n",
       "Fast & Furious                         2009       107  1013752\n",
       "Fast & Furious 6                       2013       130  1905041\n",
       "Fast & Furious: Supercharged           2015        11  3757982\n",
       "Fast Five                              2011       130  1596343\n",
       "The Fast and the Furious               2001       106   232500\n",
       "The Fast and the Furious: Tokyo Drift  2006       104   463985"
      ]
     },
     "execution_count": 13,
     "metadata": {},
     "output_type": "execute_result"
    }
   ],
   "source": [
    "df_movies_by_title_part=pd.read_json('movies_by_title_Fast.json').set_index('title')\n",
    "df_movies_by_title_part"
   ]
  },
  {
   "cell_type": "markdown",
   "metadata": {},
   "source": [
    "# Top 10 acteurs"
   ]
  },
  {
   "cell_type": "code",
   "execution_count": 72,
   "metadata": {
    "collapsed": true,
    "jupyter": {
     "outputs_hidden": true
    }
   },
   "outputs": [
    {
     "data": {
      "text/html": [
       "<div>\n",
       "<style scoped>\n",
       "    .dataframe tbody tr th:only-of-type {\n",
       "        vertical-align: middle;\n",
       "    }\n",
       "\n",
       "    .dataframe tbody tr th {\n",
       "        vertical-align: top;\n",
       "    }\n",
       "\n",
       "    .dataframe thead th {\n",
       "        text-align: right;\n",
       "    }\n",
       "</style>\n",
       "<table border=\"1\" class=\"dataframe\">\n",
       "  <thead>\n",
       "    <tr style=\"text-align: right;\">\n",
       "      <th></th>\n",
       "      <th>birthdate</th>\n",
       "      <th>name</th>\n",
       "      <th>id</th>\n",
       "      <th>movie_count</th>\n",
       "      <th>year_min</th>\n",
       "      <th>year_max</th>\n",
       "    </tr>\n",
       "  </thead>\n",
       "  <tbody>\n",
       "    <tr>\n",
       "      <th>0</th>\n",
       "      <td>1907-05-26</td>\n",
       "      <td>John Wayne</td>\n",
       "      <td>78</td>\n",
       "      <td>172</td>\n",
       "      <td>1926</td>\n",
       "      <td>1976</td>\n",
       "    </tr>\n",
       "    <tr>\n",
       "      <th>1</th>\n",
       "      <td>1884-03-16</td>\n",
       "      <td>Harrison Ford</td>\n",
       "      <td>1230</td>\n",
       "      <td>86</td>\n",
       "      <td>1915</td>\n",
       "      <td>1932</td>\n",
       "    </tr>\n",
       "    <tr>\n",
       "      <th>2</th>\n",
       "      <td>1930-08-25</td>\n",
       "      <td>Sean Connery</td>\n",
       "      <td>125</td>\n",
       "      <td>73</td>\n",
       "      <td>1954</td>\n",
       "      <td>2012</td>\n",
       "    </tr>\n",
       "    <tr>\n",
       "      <th>3</th>\n",
       "      <td>1946-07-06</td>\n",
       "      <td>Sylvester Stallone</td>\n",
       "      <td>230</td>\n",
       "      <td>73</td>\n",
       "      <td>1969</td>\n",
       "      <td>2019</td>\n",
       "    </tr>\n",
       "    <tr>\n",
       "      <th>4</th>\n",
       "      <td>1956-07-09</td>\n",
       "      <td>Tom Hanks</td>\n",
       "      <td>158</td>\n",
       "      <td>69</td>\n",
       "      <td>1980</td>\n",
       "      <td>2020</td>\n",
       "    </tr>\n",
       "    <tr>\n",
       "      <th>5</th>\n",
       "      <td>1960-10-18</td>\n",
       "      <td>Jean-Claude Van Damme</td>\n",
       "      <td>241</td>\n",
       "      <td>66</td>\n",
       "      <td>1979</td>\n",
       "      <td>2019</td>\n",
       "    </tr>\n",
       "    <tr>\n",
       "      <th>6</th>\n",
       "      <td>1930-05-31</td>\n",
       "      <td>Clint Eastwood</td>\n",
       "      <td>142</td>\n",
       "      <td>63</td>\n",
       "      <td>1955</td>\n",
       "      <td>2018</td>\n",
       "    </tr>\n",
       "    <tr>\n",
       "      <th>7</th>\n",
       "      <td>1942-07-13</td>\n",
       "      <td>Harrison Ford</td>\n",
       "      <td>148</td>\n",
       "      <td>63</td>\n",
       "      <td>1966</td>\n",
       "      <td>2020</td>\n",
       "    </tr>\n",
       "    <tr>\n",
       "      <th>8</th>\n",
       "      <td>1947-07-30</td>\n",
       "      <td>Arnold Schwarzenegger</td>\n",
       "      <td>216</td>\n",
       "      <td>56</td>\n",
       "      <td>1970</td>\n",
       "      <td>2019</td>\n",
       "    </tr>\n",
       "    <tr>\n",
       "      <th>9</th>\n",
       "      <td>1968-09-25</td>\n",
       "      <td>Will Smith</td>\n",
       "      <td>226</td>\n",
       "      <td>50</td>\n",
       "      <td>1988</td>\n",
       "      <td>2020</td>\n",
       "    </tr>\n",
       "  </tbody>\n",
       "</table>\n",
       "</div>"
      ],
      "text/plain": [
       "    birthdate                   name    id  movie_count  year_min  year_max\n",
       "0  1907-05-26             John Wayne    78          172      1926      1976\n",
       "1  1884-03-16          Harrison Ford  1230           86      1915      1932\n",
       "2  1930-08-25           Sean Connery   125           73      1954      2012\n",
       "3  1946-07-06     Sylvester Stallone   230           73      1969      2019\n",
       "4  1956-07-09              Tom Hanks   158           69      1980      2020\n",
       "5  1960-10-18  Jean-Claude Van Damme   241           66      1979      2019\n",
       "6  1930-05-31         Clint Eastwood   142           63      1955      2018\n",
       "7  1942-07-13          Harrison Ford   148           63      1966      2020\n",
       "8  1947-07-30  Arnold Schwarzenegger   216           56      1970      2019\n",
       "9  1968-09-25             Will Smith   226           50      1988      2020"
      ]
     },
     "execution_count": 72,
     "metadata": {},
     "output_type": "execute_result"
    }
   ],
   "source": [
    "df=pd.read_json('stats_actors_top10.json')\n",
    "# creation nouvelles colonnes avec le nom des différents attributs\n",
    "df[\"birthdate\"] = [x[\"birthdate\"] for x in df[0]]\n",
    "df[\"name\"] = [x[\"name\"] for x in df[0]]\n",
    "df[\"id\"] = [x[\"id\"] for x in df[0]]\n",
    "df[\"movie_count\"] = df[1]\n",
    "df[\"year_min\"] = df[2]\n",
    "df[\"year_max\"] = df[3]\n",
    "del df[0]\n",
    "del df[1]\n",
    "del df[2]\n",
    "del df[3]\n",
    "df.set_index(\"id\")\n",
    "df_top10_actors=df\n",
    "df_top10_actors"
   ]
  },
  {
   "cell_type": "code",
   "execution_count": 73,
   "metadata": {},
   "outputs": [],
   "source": [
    "df_top10_actors_movie_count =df_top10_actors[['name','movie_count']].set_index('name')\n",
    "df_top10_actors_years = df_top10_actors[['name', 'year_min', 'year_max']].set_index('name')"
   ]
  },
  {
   "cell_type": "code",
   "execution_count": 80,
   "metadata": {},
   "outputs": [
    {
     "data": {
      "text/plain": [
       "(1900.0, 2025.0)"
      ]
     },
     "execution_count": 80,
     "metadata": {},
     "output_type": "execute_result"
    },
    {
     "data": {
      "image/png": "[encoded data removed]",
      "text/plain": [
       "<Figure size 1152x360 with 2 Axes>"
      ]
     },
     "metadata": {
      "needs_background": "light"
     },
     "output_type": "display_data"
    }
   ],
   "source": [
    "fig, (ax1, ax2) = plt.subplots(1, 2, figsize=(16,5))\n",
    "\n",
    "df_top10_actors_movie_count.plot(kind=\"bar\", ax=ax1, color='blue')\n",
    "ax1.set_title(\"Nombre de films par acteur\")\n",
    "ax1.set_ylabel(\"movie_count\")\n",
    "ax1.set_xlabel(\"Top 10 acteurs\")\n",
    "\n",
    "df_top10_actors_years.plot(kind=\"bar\", ax=ax2, color=['blue', 'red'])\n",
    "ax2.set_title(\"Années min/max film par acteur\")\n",
    "ax2.set_ylabel(\"Année sortie film\")\n",
    "ax2.set_xlabel(\"Top 10 acteurs\")\n",
    "ax2.set_ylim(1900, 2025)\n"
   ]
  },
  {
   "cell_type": "code",
   "execution_count": 82,
   "metadata": {},
   "outputs": [],
   "source": [
    "df_count_stars_by_year = df_stars[~df_stars.birthdate.isna()].groupby(pd.Grouper(key='birthdate', freq='Y')).count()\n",
    "df_count_movies_by_year = df_movies.groupby(pd.Grouper(key='year')).count()[['title']]"
   ]
  },
  {
   "cell_type": "code",
   "execution_count": 84,
   "metadata": {},
   "outputs": [
    {
     "data": {
      "image/png": "[encoded data removed]",
      "text/plain": [
       "<Figure size 720x720 with 2 Axes>"
      ]
     },
     "metadata": {
      "needs_background": "light"
     },
     "output_type": "display_data"
    }
   ],
   "source": [
    "fig, ((ax1, ax2)) = plt.subplots(2, figsize=(10,10))\n",
    "\n",
    "ax1.bar(df_count_stars_by_year.index, df_count_stars_by_year.name, color='red', width=250)\n",
    "ax1.set_title(\"Répartition par année et naissances de star - Post traitement pandas\")\n",
    "ax1.set_xlabel(\"Année de naissance\")\n",
    "ax1.set_ylabel(\"star_count\")\n",
    "ax1.set_xlim(datetime(1845,1,1), datetime(2020,1,1))\n",
    "ax1.xaxis.set_minor_locator(mdates.YearLocator(base=10))\n",
    "ax1.xaxis.set_major_formatter(mdates.DateFormatter('%Y'))\n",
    "\n",
    "ax2.bar(df_count_movies_by_year.index, df_count_movies_by_year.title, color='red')\n",
    "ax2.set_title(\"Répartition films par année\")\n",
    "ax2.set_xlabel(\"Année de sortie\")\n",
    "ax2.set_ylabel(\"movie_count\")\n",
    "ax2.set_xlim(1915, 2020)\n",
    "ax2.xaxis.set_minor_locator(ticker.MultipleLocator(10))\n",
    "\n"
   ]
  }
 ],
 "metadata": {
  "kernelspec": {
   "display_name": "Python 3",
   "language": "python",
   "name": "python3"
  },
  "language_info": {
   "codemirror_mode": {
    "name": "ipython",
    "version": 3
   },
   "file_extension": ".py",
   "mimetype": "text/x-python",
   "name": "python",
   "nbconvert_exporter": "python",
   "pygments_lexer": "ipython3",
   "version": "3.8.3"
  }
 },
 "nbformat": 4,
 "nbformat_minor": 4
}
